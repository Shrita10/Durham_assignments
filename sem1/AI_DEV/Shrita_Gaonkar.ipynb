{
 "cells": [
  {
   "cell_type": "markdown",
   "metadata": {},
   "source": [
    "# AIDI-1100 - AI Development\n",
    "### Lab Activity 2 (10% of the final grade)"
   ]
  },
  {
   "cell_type": "markdown",
   "metadata": {},
   "source": [
    "# Question 1:"
   ]
  },
  {
   "cell_type": "markdown",
   "metadata": {},
   "source": [
    " **a)** Write a code segment to create and print a two-dimentional 5x4 array (i.e. grid). The elements of the grid should be randomly selected from the inclusive interval [-50, 50]. Set the seed to 1 to reproduce the results. **2 Points**\n"
   ]
  },
  {
   "cell_type": "code",
   "execution_count": 1,
   "metadata": {},
   "outputs": [
    {
     "name": "stdout",
     "output_type": "stream",
     "text": [
      "[[-13 -38  22 -41]\n",
      " [ 25 -45  29  14]\n",
      " [-34 -49  26  21]\n",
      " [-44 -25   0 -30]\n",
      " [-32  34 -39 -22]]\n"
     ]
    }
   ],
   "source": [
    "import numpy as np\n",
    "import random\n",
    "np.random.seed(1) \n",
    "nd = np.random.randint(-50,50, size =(5,4))\n",
    "print(nd)"
   ]
  },
  {
   "cell_type": "markdown",
   "metadata": {},
   "source": [
    "**b)** Write a code segment that searches the `ndarray` object in `Q1a` for all the negative integers, and prints them. **3 Points**"
   ]
  },
  {
   "cell_type": "code",
   "execution_count": 2,
   "metadata": {},
   "outputs": [
    {
     "name": "stdout",
     "output_type": "stream",
     "text": [
      "[-13 -38 -41]\n",
      "[-45]\n",
      "[-34 -49]\n",
      "[-44 -25 -30]\n",
      "[-32 -39 -22]\n"
     ]
    }
   ],
   "source": [
    "for i in nd:\n",
    "    print(i[i<0])"
   ]
  },
  {
   "cell_type": "markdown",
   "metadata": {},
   "source": [
    "**c)** Given that `iList = [1, -1, 2, -2]`, add each element of `iList` to its corresponding element of `Q1a` `ndarray` row-wise.  \n",
    "\n",
    "For example, if the Grid is equal to: $$\\begin{pmatrix} 1 & 2 & 1 & 1 \\\\ 3 & 0 & 1 & 6 \\\\ 0 & 2 & 4 & 6 \\\\ 4 & 5 &0 & 2 \\\\ 3 & 6 & 4 & 3 \\end{pmatrix}$$\n",
    "\n",
    "Then the output should be:\n",
    "$$\\begin{pmatrix} 1+1 & 2-1 & 1+2 & 1-2 \\\\ 3+1 & 0-1 & 1+2 & 6-2 \\\\ 0+1 & 2-1 & 4+2 & 6-2 \\\\ 4+1 & 5-1 &0+2 & 2-2 \\\\ 3+1 & 6-1 & 4+2 & 3-2 \\end{pmatrix}$$"
   ]
  },
  {
   "cell_type": "code",
   "execution_count": 3,
   "metadata": {},
   "outputs": [
    {
     "name": "stdout",
     "output_type": "stream",
     "text": [
      "[[-12 -39  24 -43]\n",
      " [ 26 -46  31  12]\n",
      " [-33 -50  28  19]\n",
      " [-43 -26   2 -32]\n",
      " [-31  33 -37 -24]]\n"
     ]
    }
   ],
   "source": [
    "iList = [1, -1, 2, -2]\n",
    "print(nd + iList)"
   ]
  },
  {
   "cell_type": "markdown",
   "metadata": {},
   "source": [
    "# Question 2:\n",
    "According to the documentation of each method, complete the code of the `TextProcessor` class and its subclass `TextAnalyzer`. **5 Points**"
   ]
  },
  {
   "cell_type": "code",
   "execution_count": 4,
   "metadata": {},
   "outputs": [],
   "source": [
    "class TextProcessor:\n",
    "    def __init__(self, text):\n",
    "        self.text = text\n",
    "    def setStopWords(self, stop_words=[]):\n",
    "        self.__stop_words = stop_words\n",
    "    def getStopWords(self):\n",
    "        return self.__stop_words\n",
    "    def getUniqWords(self):\n",
    "        return set(self.__text.split())\n",
    "    def getFilteredText(self):\n",
    "        word = self.text.split()\n",
    "        filt = self.text\n",
    "        for i in word:\n",
    "            if i in self.__stop_words:\n",
    "                filt = filt.replace(i + ' ','')\n",
    "        return filt\n",
    "class TextAnalyzer(TextProcessor):\n",
    "    def __init__(self,text):\n",
    "        super().__init__(text)\n",
    "    def getWordFrequency(self):\n",
    "        word = super().getFilteredText()\n",
    "        wordFreq = {}\n",
    "        for word in word.split():\n",
    "            if word in wordFreq.keys():\n",
    "                wordFreq[word] = wordFreq[word] + 1\n",
    "            else:\n",
    "                wordFreq[word] = 1\n",
    "        return wordFreq\n",
    "    "
   ]
  },
  {
   "cell_type": "code",
   "execution_count": 5,
   "metadata": {},
   "outputs": [
    {
     "data": {
      "text/plain": [
       "{'quick': 6, 'brown': 6, 'fox': 6, 'jumps': 5, 'over': 4, 'lazy': 2, 'dog': 1}"
      ]
     },
     "execution_count": 5,
     "metadata": {},
     "output_type": "execute_result"
    }
   ],
   "source": [
    "### Example test\n",
    "ta = TextAnalyzer(\"a quick brown fox \" + \n",
    "                  \"a quick brown fox jumps \" + \n",
    "                  \"a quick brown fox jumps over \" + \n",
    "                  \"a quick brown fox jumps over the \" + \n",
    "                  \"a quick brown fox jumps over the lazy \" + \n",
    "                  \"a quick brown fox jumps over the lazy dog\")\n",
    "ta.setStopWords(['a', 'the'])\n",
    "ta.getWordFrequency()"
   ]
  },
  {
   "cell_type": "code",
   "execution_count": null,
   "metadata": {},
   "outputs": [],
   "source": []
  },
  {
   "cell_type": "code",
   "execution_count": null,
   "metadata": {},
   "outputs": [],
   "source": []
  }
 ],
 "metadata": {
  "kernelspec": {
   "display_name": "Python 3",
   "language": "python",
   "name": "python3"
  },
  "language_info": {
   "codemirror_mode": {
    "name": "ipython",
    "version": 3
   },
   "file_extension": ".py",
   "mimetype": "text/x-python",
   "name": "python",
   "nbconvert_exporter": "python",
   "pygments_lexer": "ipython3",
   "version": "3.7.4"
  }
 },
 "nbformat": 4,
 "nbformat_minor": 4
}
