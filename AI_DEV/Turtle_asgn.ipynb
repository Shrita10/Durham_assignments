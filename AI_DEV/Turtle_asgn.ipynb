{
 "cells": [
  {
   "cell_type": "code",
   "execution_count": 2,
   "metadata": {},
   "outputs": [],
   "source": [
    "#hello"
   ]
  },
  {
   "cell_type": "code",
   "execution_count": 3,
   "metadata": {},
   "outputs": [],
   "source": [
    "import turtle\n",
    "from turtle import *\n",
    "from ColabTurtle.Turtle import *"
   ]
  },
  {
   "cell_type": "code",
   "execution_count": 4,
   "metadata": {},
   "outputs": [
    {
     "name": "stdout",
     "output_type": "stream",
     "text": [
      "Please input shapeT\n"
     ]
    },
    {
     "data": {
      "text/html": [
       "\n",
       "      <svg width=\"800\" height=\"500\">\n",
       "        <rect width=\"100%\" height=\"100%\" fill=\"black\"/>\n",
       "        <line x1=\"400\" y1=\"250\" x2=\"450.0\" y2=\"163.39745962155615\" stroke-linecap=\"round\" style=\"stroke:white;stroke-width:4\"/><line x1=\"450.0\" y1=\"163.39745962155615\" x2=\"350.0\" y2=\"163.39745962155615\" stroke-linecap=\"round\" style=\"stroke:white;stroke-width:4\"/><line x1=\"350.0\" y1=\"163.39745962155615\" x2=\"400.0\" y2=\"250.0\" stroke-linecap=\"round\" style=\"stroke:white;stroke-width:4\"/>\n",
       "        \n",
       "      <g visibility=visible transform=\"rotate(-30,400.0,250.0) translate(400.0, 250.0)\">\n",
       "        <circle stroke=\"white\" stroke-width=\"3\" fill=\"transparent\" r=\"12\" cx=\"0\" cy=\"0\"/>\n",
       "        <polygon points=\"0,19 3,16 -3,16\" style=\"fill:white;stroke:white;stroke-width:2\"/>\n",
       "      </g>\n",
       "    \n",
       "      </svg>\n",
       "    "
      ],
      "text/plain": [
       "<IPython.core.display.HTML object>"
      ]
     },
     "metadata": {},
     "output_type": "display_data"
    }
   ],
   "source": [
    "\n",
    "def shape():\n",
    "    shap = input('Please input shape')\n",
    "    initializeTurtle()\n",
    "    if shap == 'P':\n",
    "        forward(100)\n",
    "        right(72)\n",
    "        forward(100)\n",
    "        right(72)\n",
    "        forward(100)\n",
    "        right(72)\n",
    "        forward(100)\n",
    "        right(72)\n",
    "        forward(100)\n",
    "    elif shap == 'R':\n",
    "        forward(200)\n",
    "        right(90)\n",
    "        forward(100)\n",
    "        right(90)\n",
    "        forward(200)\n",
    "        right(90)\n",
    "        forward(100)\n",
    "    elif shap == 'C':\n",
    "        turt = turtle.Turtle() \n",
    "        turt.circle(100)\n",
    "    elif shap == 'T':\n",
    "        right(30)\n",
    "        forward(100)\n",
    "        right(600)\n",
    "        forward(100)\n",
    "        left(120)\n",
    "        forward(100)\n",
    "    elif shap == 'Random':\n",
    "        i = 0\n",
    "        while i < 18:\n",
    "            forward(100)\n",
    "            right(90)\n",
    "            forward(100)\n",
    "            right(90)\n",
    "            forward(100)\n",
    "            right(90)\n",
    "            forward(100)\n",
    "            left(100)\n",
    "            i =i +1\n",
    "    elif shap == 'quit':\n",
    "        print('you are out now')\n",
    "    else:\n",
    "        print('The value you entered is wrong')\n",
    "shape()\n",
    "        "
   ]
  },
  {
   "cell_type": "code",
   "execution_count": 1,
   "metadata": {},
   "outputs": [],
   "source": [
    "#done finally"
   ]
  },
  {
   "cell_type": "code",
   "execution_count": null,
   "metadata": {},
   "outputs": [],
   "source": []
  }
 ],
 "metadata": {
  "kernelspec": {
   "display_name": "Python 3",
   "language": "python",
   "name": "python3"
  },
  "language_info": {
   "codemirror_mode": {
    "name": "ipython",
    "version": 3
   },
   "file_extension": ".py",
   "mimetype": "text/x-python",
   "name": "python",
   "nbconvert_exporter": "python",
   "pygments_lexer": "ipython3",
   "version": "3.7.4"
  }
 },
 "nbformat": 4,
 "nbformat_minor": 2
}
