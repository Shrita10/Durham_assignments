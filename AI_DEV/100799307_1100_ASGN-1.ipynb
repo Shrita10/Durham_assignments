{
 "cells": [
  {
   "cell_type": "markdown",
   "metadata": {},
   "source": [
    "# INTRO TO AI ASSIGNMENT-1"
   ]
  },
  {
   "cell_type": "code",
   "execution_count": 11,
   "metadata": {},
   "outputs": [
    {
     "name": "stdout",
     "output_type": "stream",
     "text": [
      "Enter employee name to be printed in the stub: \n",
      "John Smith\n",
      "Enter employee salary to be printed in the stub: \n",
      "1800\n",
      "Employee: \"John Smith\"\n",
      "Salary: $1800\n",
      "Bonus: $58.5\n",
      "Deductibles: $319.66\n",
      "Gross Pay: $1858.5\n",
      "Net Pay: $1538.84\n"
     ]
    }
   ],
   "source": [
    "def stub(salary):\n",
    "    if salary < 1000:\n",
    "        bonus = 3.5\n",
    "    elif (salary > 1000) & (salary < 2000):\n",
    "        bonus = 3.25\n",
    "    else:\n",
    "        bonus = 3.00\n",
    "    calculated_bonus = bonus  \n",
    "    bonus1 = bonus/100*salary   \n",
    "    gross_pay = salary + bonus1   \n",
    "    tax_percent = 17.2            \n",
    "    Deductibles = tax_percent/100 * gross_pay  \n",
    "    Net_pay = gross_pay - Deductibles   \n",
    "    Net_pay = round(Net_pay,2)\n",
    "    bonus1 = round(bonus1,2)\n",
    "    Deductibles = round(Deductibles,2)\n",
    "    gross_pay = round(gross_pay,2)\n",
    "    return salary, bonus1, gross_pay, Deductibles, Net_pay, calculated_bonus\n",
    "\n",
    "print('Enter employee name to be printed in the stub: ')  #Input the name of the employee to be printed on the stub\n",
    "x = input()\n",
    "print('Enter employee salary to be printed in the stub: ')  #Input the name of the employee to be printed on the stub\n",
    "y = input()\n",
    "stub1 = stub(int(y))\n",
    "salary = str(stub1[0])\n",
    "bonus = str(stub1[1])\n",
    "Deductibles = str(stub1[3])\n",
    "Gross_pay = str(stub1[2])\n",
    "net_pay = str(stub1[4])\n",
    "print('Employee: \"' +x +'\"')\n",
    "print(\"Salary: $\" + salary + '\\n'+ \"Bonus: $\" + bonus + '\\n'+ \"Deductibles: $\" + Deductibles + '\\n'+ \"Gross Pay: $\" + Gross_pay+ '\\n'+ \"Net Pay: $\" + net_pay)\n"
   ]
  },
  {
   "cell_type": "code",
   "execution_count": null,
   "metadata": {},
   "outputs": [],
   "source": []
  },
  {
   "cell_type": "code",
   "execution_count": null,
   "metadata": {},
   "outputs": [],
   "source": []
  },
  {
   "cell_type": "code",
   "execution_count": null,
   "metadata": {},
   "outputs": [],
   "source": []
  }
 ],
 "metadata": {
  "kernelspec": {
   "display_name": "Python 3",
   "language": "python",
   "name": "python3"
  },
  "language_info": {
   "codemirror_mode": {
    "name": "ipython",
    "version": 3
   },
   "file_extension": ".py",
   "mimetype": "text/x-python",
   "name": "python",
   "nbconvert_exporter": "python",
   "pygments_lexer": "ipython3",
   "version": "3.7.4"
  }
 },
 "nbformat": 4,
 "nbformat_minor": 2
}
