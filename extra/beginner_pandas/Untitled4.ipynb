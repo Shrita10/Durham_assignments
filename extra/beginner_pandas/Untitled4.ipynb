{
 "cells": [
  {
   "cell_type": "code",
   "execution_count": 21,
   "metadata": {},
   "outputs": [],
   "source": [
    "import pandas as pd\n",
    "import numpy as np\n",
    "df = pd.read_csv('Documents/dataset/anime_subdata.csv')"
   ]
  },
  {
   "cell_type": "code",
   "execution_count": 22,
   "metadata": {},
   "outputs": [],
   "source": [
    "def seg_nos(s):\n",
    "    s = str(s)\n",
    "    if ',' in s:\n",
    "        s = s.split(',')\n",
    "        return s[1]\n",
    "    elif ' ' in s:\n",
    "        s = s.split()\n",
    "        return s[1]\n",
    "    else:\n",
    "        return s\n",
    "df['location'] = df['location'].apply(seg_nos)"
   ]
  },
  {
   "cell_type": "code",
   "execution_count": 23,
   "metadata": {},
   "outputs": [
    {
     "data": {
      "text/plain": [
       "0         India \n",
       "1         Manila\n",
       "2       Michigan\n",
       "3         Mexico\n",
       "4            nan\n",
       "         ...    \n",
       "144    Indonesia\n",
       "145          nan\n",
       "146      Florida\n",
       "147      England\n",
       "148        don't\n",
       "Name: location, Length: 149, dtype: object"
      ]
     },
     "execution_count": 23,
     "metadata": {},
     "output_type": "execute_result"
    }
   ],
   "source": [
    "df.loc[:,'location']"
   ]
  },
  {
   "cell_type": "code",
   "execution_count": 24,
   "metadata": {},
   "outputs": [],
   "source": [
    "df['location'] = df['location'].replace(to_replace='~', value='',regex=True)\n",
    "df['location'] = df['location'].replace(to_replace='-', value='',regex=True)"
   ]
  },
  {
   "cell_type": "code",
   "execution_count": 8,
   "metadata": {},
   "outputs": [
    {
     "name": "stdout",
     "output_type": "stream",
     "text": [
      "hello adimanx\n"
     ]
    }
   ],
   "source": []
  },
  {
   "cell_type": "code",
   "execution_count": 28,
   "metadata": {},
   "outputs": [
    {
     "data": {
      "text/plain": [
       "0         India       adimanx\n",
       "1         Manila      adimanx\n",
       "2       Michigan      adimanx\n",
       "3         Mexico      adimanx\n",
       "4            nan      adimanx\n",
       "                ...          \n",
       "144    Indonesia      adimanx\n",
       "145          nan      adimanx\n",
       "146      Florida      adimanx\n",
       "147      England      adimanx\n",
       "148        don't      adimanx\n",
       "Name: location, Length: 149, dtype: object"
      ]
     },
     "execution_count": 28,
     "metadata": {},
     "output_type": "execute_result"
    }
   ],
   "source": [
    "df['location'].apply(lambda a : a + '      adimanx')"
   ]
  },
  {
   "cell_type": "code",
   "execution_count": 33,
   "metadata": {},
   "outputs": [
    {
     "name": "stdout",
     "output_type": "stream",
     "text": [
      "it works\n"
     ]
    }
   ],
   "source": [
    "s = 'U A'\n",
    "if s == 'U A':\n",
    "    print('it works')"
   ]
  },
  {
   "cell_type": "code",
   "execution_count": null,
   "metadata": {},
   "outputs": [],
   "source": []
  }
 ],
 "metadata": {
  "kernelspec": {
   "display_name": "Python 3",
   "language": "python",
   "name": "python3"
  },
  "language_info": {
   "codemirror_mode": {
    "name": "ipython",
    "version": 3
   },
   "file_extension": ".py",
   "mimetype": "text/x-python",
   "name": "python",
   "nbconvert_exporter": "python",
   "pygments_lexer": "ipython3",
   "version": "3.7.4"
  }
 },
 "nbformat": 4,
 "nbformat_minor": 2
}
