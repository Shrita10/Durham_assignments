{
 "cells": [
  {
   "cell_type": "markdown",
   "metadata": {},
   "source": [
    "## Image Classification using a Convolutional Neural Network\n",
    "\n",
    "#### Shrita Gaonkar(100799307)\n",
    "\n",
    "#### AIDI 2000 - Applied Machine Learning - Lab #1"
   ]
  },
  {
   "cell_type": "markdown",
   "metadata": {},
   "source": [
    "# Build and save an object detection model for CIFAR-10 dataset"
   ]
  },
  {
   "cell_type": "markdown",
   "metadata": {},
   "source": [
    "### Write a small description about this dataset."
   ]
  },
  {
   "cell_type": "markdown",
   "metadata": {},
   "source": [
    "The CIFAR-10 dataset (Canadian Institute For Advanced Research) is a collection of images that are commonly used to train machine learning and computer vision algorithms.\n",
    "\n",
    "The CIFAR-10 dataset contains 60,000 32x32 color images in 10 different classes. \n",
    "\n",
    "The 10 different classes represent airplanes, cars, birds, cats, deer, dogs, frogs, horses, ships, and trucks. \n",
    "\n",
    "There are 6,000 images of each class.\n",
    "\n",
    "There are 50,000 training images and 10,000 testing images.\n",
    "\n",
    "Reference : https://en.wikipedia.org/wiki/CIFAR-10"
   ]
  },
  {
   "cell_type": "markdown",
   "metadata": {},
   "source": [
    "# Information about data"
   ]
  },
  {
   "cell_type": "code",
   "execution_count": 1,
   "metadata": {},
   "outputs": [],
   "source": [
    "from tensorflow.keras.datasets import cifar10\n",
    "(X_train, y_train), (X_test, y_test) = cifar10.load_data()"
   ]
  },
  {
   "cell_type": "code",
   "execution_count": 2,
   "metadata": {},
   "outputs": [
    {
     "name": "stdout",
     "output_type": "stream",
     "text": [
      "Shape of X_train:  (50000, 32, 32, 3)\n",
      "Shape of y_train:  (50000, 1)\n",
      "Shape of X_test:  (10000, 32, 32, 3)\n",
      "Shape of y_test:  (10000, 1)\n"
     ]
    }
   ],
   "source": [
    "print(\"Shape of X_train: \", X_train.shape)\n",
    "print('Shape of y_train: ', y_train.shape)\n",
    "print(\"Shape of X_test: \", X_test.shape)\n",
    "print('Shape of y_test: ', y_test.shape)"
   ]
  },
  {
   "cell_type": "markdown",
   "metadata": {},
   "source": [
    "# Creating a CNN-based Image Classifier"
   ]
  },
  {
   "cell_type": "markdown",
   "metadata": {},
   "source": [
    "### Design the CNN architecture as below:"
   ]
  },
  {
   "cell_type": "markdown",
   "metadata": {},
   "source": [
    "## Import libraries"
   ]
  },
  {
   "cell_type": "code",
   "execution_count": 3,
   "metadata": {},
   "outputs": [
    {
     "name": "stderr",
     "output_type": "stream",
     "text": [
      "Using TensorFlow backend.\n"
     ]
    }
   ],
   "source": [
    "import sys\n",
    "from matplotlib import pyplot\n",
    "from keras.datasets import cifar10\n",
    "from keras.utils import to_categorical\n",
    "from keras.models import Sequential\n",
    "from keras.layers import Conv2D\n",
    "from keras.layers import MaxPooling2D\n",
    "from keras.layers import Dense\n",
    "from keras.layers import Flatten\n",
    "from keras.optimizers import SGD\n",
    "from sklearn.model_selection import KFold\n",
    "from sklearn.model_selection import StratifiedKFold\n",
    "from keras.models import load_model\n",
    "from keras.preprocessing.image import load_img\n",
    "from keras.preprocessing.image import img_to_array\n",
    "import matplotlib.image as mpimg\n",
    "import matplotlib.pyplot as plt"
   ]
  },
  {
   "cell_type": "markdown",
   "metadata": {},
   "source": [
    "## Defining the functions for loading, processing the data and building the model."
   ]
  },
  {
   "cell_type": "code",
   "execution_count": 4,
   "metadata": {},
   "outputs": [
    {
     "name": "stdout",
     "output_type": "stream",
     "text": [
      "Epoch 1/10\n",
      "50000/50000 [==============================] - 203s 4ms/step - loss: 1.6434 - accuracy: 0.4071\n",
      "Epoch 2/10\n",
      "50000/50000 [==============================] - 201s 4ms/step - loss: 1.2750 - accuracy: 0.5469\n",
      "Epoch 3/10\n",
      "50000/50000 [==============================] - 202s 4ms/step - loss: 1.0885 - accuracy: 0.6157\n",
      "Epoch 4/10\n",
      "50000/50000 [==============================] - 200s 4ms/step - loss: 0.9497 - accuracy: 0.6674\n",
      "Epoch 5/10\n",
      "50000/50000 [==============================] - 197s 4ms/step - loss: 0.8399 - accuracy: 0.7074\n",
      "Epoch 6/10\n",
      "50000/50000 [==============================] - 202s 4ms/step - loss: 0.7458 - accuracy: 0.7394\n",
      "Epoch 7/10\n",
      "50000/50000 [==============================] - 200s 4ms/step - loss: 0.6621 - accuracy: 0.7679\n",
      "Epoch 8/10\n",
      "50000/50000 [==============================] - 198s 4ms/step - loss: 0.5906 - accuracy: 0.7933\n",
      "Epoch 9/10\n",
      "50000/50000 [==============================] - 198s 4ms/step - loss: 0.5212 - accuracy: 0.8179\n",
      "Epoch 10/10\n",
      "50000/50000 [==============================] - 198s 4ms/step - loss: 0.4587 - accuracy: 0.8398\n"
     ]
    }
   ],
   "source": [
    "def load_dataset():\n",
    "    (trainX, trainY), (testX, testY) = cifar10.load_data()\n",
    "    trainY = to_categorical(trainY)\n",
    "    testY = to_categorical(testY)\n",
    "    return trainX, trainY, testX, testY\n",
    "\n",
    "def prep_pixels(train, test):\n",
    "    train_norm = train.astype('float32')\n",
    "    test_norm = test.astype('float32')\n",
    "    train_norm = train_norm / 255.0\n",
    "    test_norm = test_norm / 255.0\n",
    "    return train_norm, test_norm\n",
    "\n",
    "def define_model():\n",
    "    model = Sequential()\n",
    "    # Hidden layer1\n",
    "    # CONV1a\n",
    "    model.add(Conv2D(32, (3, 3), padding='same', activation='relu', kernel_initializer='he_uniform',  input_shape=(32, 32, 3)))\n",
    "    # CONV1b\n",
    "    model.add(Conv2D(32, (3, 3), padding='same', activation='relu', kernel_initializer='he_uniform'))\n",
    "    # POOL1\n",
    "    model.add(MaxPooling2D((2, 2)))\n",
    "    # Hidden layer2\n",
    "    # CONV2a\n",
    "    model.add(Conv2D(64, (3, 3), padding='same', activation='relu', kernel_initializer='he_uniform'))\n",
    "    # CONV2b\n",
    "    model.add(Conv2D(64, (3, 3), padding='same', activation='relu', kernel_initializer='he_uniform'))\n",
    "    # POOL 2\n",
    "    model.add(MaxPooling2D((2, 2)))\n",
    "    # Hidden layer3\n",
    "    # CONV3a\n",
    "    model.add(Conv2D(128, (3, 3), padding='same', activation='relu', kernel_initializer='he_uniform'))\n",
    "    # CONV3b\n",
    "    model.add(Conv2D(128, (3, 3), padding='same', activation='relu', kernel_initializer='he_uniform'))\n",
    "    # POOL3\n",
    "    model.add(MaxPooling2D((2, 2)))\n",
    "    model.add(Flatten())\n",
    "    # Fully connected layer\n",
    "    model.add(Dense(128,activation='relu', kernel_initializer='he_uniform'))\n",
    "    model.add(Dense(10, activation='softmax'))\n",
    "    # Use a stochastic gradient descent with learning rate of 0.001, momentum=0.9\n",
    "    opt = SGD(lr = 0.001, momentum=0.9) \n",
    "    model.compile(optimizer=opt, loss='categorical_crossentropy', metrics=['accuracy'])\n",
    "    return model\n",
    "\n",
    "def run_test_harness():\n",
    "    trainX, trainY, testX, testY = load_dataset()\n",
    "    trainX, testX = prep_pixels(trainX, testX)\n",
    "    model = define_model()\n",
    "    # Use a batch_size= 32, epochs=10\n",
    "    model.fit(trainX, trainY, epochs = 10,  batch_size=32) \n",
    "    # Save the model\n",
    "    model.save('final_mod.h5')  \n",
    "\n",
    "run_test_harness()"
   ]
  },
  {
   "cell_type": "markdown",
   "metadata": {},
   "source": [
    "Here, we can see the time taken for each epoch and the accuracy at each epoch"
   ]
  },
  {
   "cell_type": "markdown",
   "metadata": {},
   "source": [
    "## Defining a function for evaluation of the model after loading the saved model"
   ]
  },
  {
   "cell_type": "code",
   "execution_count": 5,
   "metadata": {},
   "outputs": [],
   "source": [
    "def eval_model():\n",
    "    # Find the accuracy of the model from our saved model file.\n",
    "    X_train, y_train, X_test, y_test = load_dataset()\n",
    "    X_train, X_test = prep_pixels(X_train, X_test)\n",
    "    model = load_model('final_mod.h5')\n",
    "    _, acc = model.evaluate(X_test, y_test, verbose = 1)\n",
    "    print('Accuracy on Test Dataset: {:.2f}%'.format(acc*100))"
   ]
  },
  {
   "cell_type": "code",
   "execution_count": 6,
   "metadata": {},
   "outputs": [
    {
     "name": "stdout",
     "output_type": "stream",
     "text": [
      "10000/10000 [==============================] - 19s 2ms/step\n",
      "Accuracy on Test Dataset: 72.28%\n"
     ]
    }
   ],
   "source": [
    "eval_model()"
   ]
  },
  {
   "cell_type": "markdown",
   "metadata": {},
   "source": [
    "The accuracy of the model is 72.28%"
   ]
  },
  {
   "cell_type": "markdown",
   "metadata": {},
   "source": [
    "# Predicting a test image"
   ]
  },
  {
   "cell_type": "markdown",
   "metadata": {},
   "source": [
    "## Defining a function that will get the test image and process it"
   ]
  },
  {
   "cell_type": "code",
   "execution_count": 7,
   "metadata": {},
   "outputs": [
    {
     "data": {
      "image/png": "[encoded data removed]",
      "text/plain": [
       "<Figure size 432x288 with 1 Axes>"
      ]
     },
     "metadata": {
      "needs_background": "light"
     },
     "output_type": "display_data"
    }
   ],
   "source": [
    "def load_image(filename):\n",
    "    img = load_img(filename, color_mode ='rgb', target_size=(32, 32))\n",
    "    \n",
    "    img = img_to_array(img)\n",
    "    img = img.reshape(1, 32, 32, 3)\n",
    "\n",
    "    img = img.astype('float32')\n",
    "    img = img / 255.0\n",
    "    \n",
    "    return img\n",
    "\n",
    "# sample.png is the new test data which needs to be predicted\n",
    "\n",
    "img1 = mpimg.imread('sample.png')\n",
    "imgplot = plt.imshow(img1)\n",
    "plt.show()\n",
    "\n",
    "img = load_image('sample.png')\n",
    "model = load_model('final_mod.h5')"
   ]
  },
  {
   "cell_type": "markdown",
   "metadata": {},
   "source": [
    "# Using predict_classes to predict the class of given image"
   ]
  },
  {
   "cell_type": "code",
   "execution_count": 8,
   "metadata": {},
   "outputs": [
    {
     "name": "stdout",
     "output_type": "stream",
     "text": [
      "The image belongs to Class Deer\n"
     ]
    }
   ],
   "source": [
    "result =  model.predict_classes(img)\n",
    "\n",
    "if result[0] == 0:\n",
    "    print('The image belongs to Class Airplane')\n",
    "    \n",
    "elif result[0] ==1:\n",
    "    print('The image belongs to Class Automobile')\n",
    "    \n",
    "elif result[0] ==2:\n",
    "    print('The image belongs to Class Bird')\n",
    "\n",
    "elif result[0] ==3:\n",
    "    print('The image belongs to Class Cat')\n",
    "\n",
    "elif result[0] ==4:\n",
    "    print('The image belongs to Class Deer')\n",
    "\n",
    "elif result[0] ==5:\n",
    "    print('The image belongs to Class Dog')\n",
    "    \n",
    "elif result[0] ==6:\n",
    "    print('The image belongs to Class Frog')\n",
    "    \n",
    "elif result[0] ==7:\n",
    "    print('The image belongs to Class Horse')\n",
    "    \n",
    "elif result[0] ==8:\n",
    "    print('The image belongs to Class Ship')\n",
    "    \n",
    "elif result[0] ==9:\n",
    "    print(' The image belongs to Class Truck')\n",
    "    \n",
    "else:\n",
    "    print('The image is not in the list')"
   ]
  },
  {
   "cell_type": "markdown",
   "metadata": {},
   "source": [
    "The image that was fed as an input into our model was successfully classified as a Deer."
   ]
  }
 ],
 "metadata": {
  "kernelspec": {
   "display_name": "Python 3",
   "language": "python",
   "name": "python3"
  },
  "language_info": {
   "codemirror_mode": {
    "name": "ipython",
    "version": 3
   },
   "file_extension": ".py",
   "mimetype": "text/x-python",
   "name": "python",
   "nbconvert_exporter": "python",
   "pygments_lexer": "ipython3",
   "version": "3.7.4"
  }
 },
 "nbformat": 4,
 "nbformat_minor": 4
}
