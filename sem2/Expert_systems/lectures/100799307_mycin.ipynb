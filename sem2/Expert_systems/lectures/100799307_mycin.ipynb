{
 "cells": [
  {
   "cell_type": "markdown",
   "metadata": {},
   "source": [
    "Shrita Gaonkar\n",
    "100799307\n",
    "In-lecture Exercise"
   ]
  },
  {
   "cell_type": "code",
   "execution_count": 1,
   "metadata": {},
   "outputs": [],
   "source": [
    "import matplotlib.pyplot as plt\n",
    "from matplotlib import cm\n",
    "import numpy as np"
   ]
  },
  {
   "cell_type": "code",
   "execution_count": 2,
   "metadata": {},
   "outputs": [],
   "source": [
    "def Mycin(x,y) :\n",
    "    if(x>0 and y>0):    #If x and y values in the function are positive, then the value of z can be calculated using \"z=x+y-x*y\"\n",
    "        z = x+y-x*y\n",
    "    elif(x<0 and y<0):  #If x and y values in the function are positive, then the value of z can be calculated using \"zz=x+y+x*y\"\n",
    "        z = x+y+x*y\n",
    "    elif(abs(x)==1 and abs(y)==1): #If absolute of x is 1 and absolute of y is 1, then z=1\n",
    "        z = 1\n",
    "    elif ((x>0 and y<0) or (x<0 and y>0)): # If (x is +ve and y is -ve) or (x is -ve and y is +ve), then z is (x+y)/(1-min(abs(x),abs(y)))\n",
    "        z=(x+y)/(1-min(abs(x),abs(y)))\n",
    "        \n",
    "    return z\n",
    "        "
   ]
  },
  {
   "cell_type": "code",
   "execution_count": 10,
   "metadata": {},
   "outputs": [
    {
     "data": {
      "text/plain": [
       "-1"
      ]
     },
     "execution_count": 10,
     "metadata": {},
     "output_type": "execute_result"
    }
   ],
   "source": [
    "#Testing the code\n",
    "results = Mycin(-1, -2)\n",
    "results"
   ]
  },
  {
   "cell_type": "code",
   "execution_count": 11,
   "metadata": {},
   "outputs": [
    {
     "data": {
      "text/plain": [
       "True"
      ]
     },
     "execution_count": 11,
     "metadata": {},
     "output_type": "execute_result"
    }
   ],
   "source": [
    "-0.91 < -0.9"
   ]
  },
  {
   "cell_type": "code",
   "execution_count": null,
   "metadata": {},
   "outputs": [],
   "source": [
    "#Creating the plot of values using Matplotlib\n",
    "       \n",
    "X = np.arange(-1,1,0.1)  # List of test values\n",
    "Y = np.arange(-1,1,0.1)  # List of test values\n",
    "\n",
    "X = X.tolist() #Converting array to list\n",
    "Y = Y.tolist() #Converting array to list\n",
    "Z = []\n",
    "\n",
    "for i in range(len(X)):  # Applying Function to create list of output values\n",
    "    Z.append(Mycin(X[i],Y[i]))"
   ]
  },
  {
   "cell_type": "code",
   "execution_count": null,
   "metadata": {},
   "outputs": [],
   "source": [
    "Z"
   ]
  },
  {
   "cell_type": "code",
   "execution_count": null,
   "metadata": {},
   "outputs": [],
   "source": [
    "# Plotting X, Y, Z\n",
    "fig = plt.figure()\n",
    "ax = plt.axes(projection='3d')\n",
    "ax = plt.axes(projection='3d')\n",
    "\n",
    "zline = Z\n",
    "xline = X\n",
    "yline = Y\n",
    "ax.plot3D(xline, yline, zline, 'gray')\n",
    "\n"
   ]
  },
  {
   "cell_type": "code",
   "execution_count": null,
   "metadata": {},
   "outputs": [],
   "source": []
  }
 ],
 "metadata": {
  "kernelspec": {
   "display_name": "Python 3",
   "language": "python",
   "name": "python3"
  },
  "language_info": {
   "codemirror_mode": {
    "name": "ipython",
    "version": 3
   },
   "file_extension": ".py",
   "mimetype": "text/x-python",
   "name": "python",
   "nbconvert_exporter": "python",
   "pygments_lexer": "ipython3",
   "version": "3.7.4"
  }
 },
 "nbformat": 4,
 "nbformat_minor": 4
}
