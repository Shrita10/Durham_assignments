{
 "cells": [
  {
   "cell_type": "markdown",
   "metadata": {},
   "source": [
    "# In-class Activity"
   ]
  },
  {
   "cell_type": "markdown",
   "metadata": {},
   "source": [
    "# Shrita Gaonkar\n",
    "# 100799307"
   ]
  },
  {
   "cell_type": "code",
   "execution_count": null,
   "metadata": {},
   "outputs": [],
   "source": []
  },
  {
   "cell_type": "code",
   "execution_count": null,
   "metadata": {},
   "outputs": [],
   "source": []
  },
  {
   "cell_type": "markdown",
   "metadata": {},
   "source": [
    "# Confidence factors"
   ]
  },
  {
   "cell_type": "code",
   "execution_count": null,
   "metadata": {},
   "outputs": [],
   "source": []
  },
  {
   "cell_type": "code",
   "execution_count": null,
   "metadata": {},
   "outputs": [],
   "source": []
  },
  {
   "cell_type": "code",
   "execution_count": 1,
   "metadata": {},
   "outputs": [],
   "source": [
    "def get_confidence_factors(evidence_df, antecedent, certainty):\n",
    "    df = pd.DataFrame(evidence_df.loc[evidence_df['Antecedent']==antecedent])\n",
    "    df = df.rename(columns = {'Antecedent':'Evidence Antecedent'})\n",
    "    df = df.rename(columns = {'Consequent':'Action Consequent'})\n",
    "    certainties = [float(x)*float(certainty) for x in df['Certainty'].tolist()]\n",
    "    df = df.rename(columns = {'Certainty':'Evidence Certainty'})\n",
    "    df['Action Certainty'] = certainties\n",
    "    df['Evidence Certainty'] = certainty\n",
    "    return df"
   ]
  },
  {
   "cell_type": "code",
   "execution_count": 2,
   "metadata": {},
   "outputs": [],
   "source": [
    "\n",
    "import pandas as pd\n",
    "def make_table():\n",
    "    columns = ['Antecedent', 'Consequent', 'Certainty']\n",
    "    \n",
    "    rule_1  = ['A', 'C']\n",
    "    rule_1.append(input(\"Enter certainty of A -> C: \"))\n",
    "    \n",
    "    rule_2 = ['B', 'C']\n",
    "    rule_2.append(input(\"Enter certainty of B -> C: \"))\n",
    "    \n",
    "    rule_3 = ['A', 'D']\n",
    "    rule_3.append(input(\"Enter certainty of A -> D: \"))\n",
    "    \n",
    "    df = pd.DataFrame((rule_1, rule_2, rule_3), columns=columns, index=['Rule 1', 'Rule 2', 'Rule 3'])\n",
    "    return df"
   ]
  },
  {
   "cell_type": "code",
   "execution_count": 3,
   "metadata": {},
   "outputs": [
    {
     "name": "stdout",
     "output_type": "stream",
     "text": [
      "Enter certainty of A -> C: 89\n",
      "Enter certainty of B -> C: 90\n",
      "Enter certainty of A -> D: 1\n"
     ]
    },
    {
     "data": {
      "text/html": [
       "<div>\n",
       "<style scoped>\n",
       "    .dataframe tbody tr th:only-of-type {\n",
       "        vertical-align: middle;\n",
       "    }\n",
       "\n",
       "    .dataframe tbody tr th {\n",
       "        vertical-align: top;\n",
       "    }\n",
       "\n",
       "    .dataframe thead th {\n",
       "        text-align: right;\n",
       "    }\n",
       "</style>\n",
       "<table border=\"1\" class=\"dataframe\">\n",
       "  <thead>\n",
       "    <tr style=\"text-align: right;\">\n",
       "      <th></th>\n",
       "      <th>Antecedent</th>\n",
       "      <th>Consequent</th>\n",
       "      <th>Certainty</th>\n",
       "    </tr>\n",
       "  </thead>\n",
       "  <tbody>\n",
       "    <tr>\n",
       "      <th>Rule 1</th>\n",
       "      <td>A</td>\n",
       "      <td>C</td>\n",
       "      <td>89</td>\n",
       "    </tr>\n",
       "    <tr>\n",
       "      <th>Rule 2</th>\n",
       "      <td>B</td>\n",
       "      <td>C</td>\n",
       "      <td>90</td>\n",
       "    </tr>\n",
       "    <tr>\n",
       "      <th>Rule 3</th>\n",
       "      <td>A</td>\n",
       "      <td>D</td>\n",
       "      <td>1</td>\n",
       "    </tr>\n",
       "  </tbody>\n",
       "</table>\n",
       "</div>"
      ],
      "text/plain": [
       "       Antecedent Consequent Certainty\n",
       "Rule 1          A          C        89\n",
       "Rule 2          B          C        90\n",
       "Rule 3          A          D         1"
      ]
     },
     "execution_count": 3,
     "metadata": {},
     "output_type": "execute_result"
    }
   ],
   "source": [
    "evidence_df = make_table()\n",
    "evidence_df"
   ]
  },
  {
   "cell_type": "code",
   "execution_count": 4,
   "metadata": {},
   "outputs": [
    {
     "name": "stdout",
     "output_type": "stream",
     "text": [
      "Enter an Evidence Antecedent (A or B): B\n",
      "Enter an Evidence Certainty value: 0\n",
      "       Evidence Antecedent Action Consequent Evidence Certainty  \\\n",
      "Rule 2                   B                 C                  0   \n",
      "\n",
      "        Action Certainty  \n",
      "Rule 2               0.0  \n"
     ]
    }
   ],
   "source": [
    "antecedent = input(\"Enter an Evidence Antecedent (A or B): \")\n",
    "certainty = input(\"Enter an Evidence Certainty value: \")\n",
    "\n",
    "action_df = get_confidence_factors(evidence_df,antecedent,certainty)\n",
    "print(action_df)"
   ]
  },
  {
   "cell_type": "code",
   "execution_count": null,
   "metadata": {},
   "outputs": [],
   "source": []
  },
  {
   "cell_type": "code",
   "execution_count": null,
   "metadata": {},
   "outputs": [],
   "source": []
  },
  {
   "cell_type": "markdown",
   "metadata": {},
   "source": [
    "# Conditional Probability"
   ]
  },
  {
   "cell_type": "code",
   "execution_count": null,
   "metadata": {},
   "outputs": [],
   "source": []
  },
  {
   "cell_type": "code",
   "execution_count": null,
   "metadata": {},
   "outputs": [],
   "source": []
  },
  {
   "cell_type": "code",
   "execution_count": 5,
   "metadata": {},
   "outputs": [],
   "source": [
    "import pandas as pd\n",
    "import numpy as np"
   ]
  },
  {
   "cell_type": "code",
   "execution_count": 6,
   "metadata": {},
   "outputs": [],
   "source": [
    "def generate_df(male_arts, female_arts, male_stem, female_stem):\n",
    "    df = pd.DataFrame([(male_arts,female_arts),(male_stem,female_stem)], \n",
    "                      index=['male','female'], \n",
    "                      columns=['arts','stem'])\n",
    "\n",
    "    df['gender']=df.sum(axis=1) \n",
    "    df.loc['stream']=df.sum()\n",
    "    return df\n",
    "\n",
    "def get_conditional_probabilities(gender, stream, df):\n",
    "    print('P({})={}'.format(gender, df.loc[gender]['gender'] / df['gender']['stream']))\n",
    "    print('P({})={}'.format(stream, df.loc['stream'][stream] / df['gender']['stream']))\n",
    "    print('P({} and {})={}'.format(gender, stream, df.loc[gender][stream] / df['gender']['stream']))\n",
    "    print('P({}|{})={}'.format(stream, gender, df.loc[gender][stream] / df.loc[gender]['gender']))\n",
    "    print('P({}|{})={}'.format(gender, stream, df.loc[gender][stream] / df[stream]['stream']))"
   ]
  },
  {
   "cell_type": "code",
   "execution_count": 7,
   "metadata": {},
   "outputs": [
    {
     "name": "stdout",
     "output_type": "stream",
     "text": [
      "Enter # of male arts students: 90\n",
      "Enter # of female arts students: 1\n",
      "Enter # of male stem students: 0\n",
      "Enter # of female stem students: 90\n"
     ]
    },
    {
     "data": {
      "text/html": [
       "<div>\n",
       "<style scoped>\n",
       "    .dataframe tbody tr th:only-of-type {\n",
       "        vertical-align: middle;\n",
       "    }\n",
       "\n",
       "    .dataframe tbody tr th {\n",
       "        vertical-align: top;\n",
       "    }\n",
       "\n",
       "    .dataframe thead th {\n",
       "        text-align: right;\n",
       "    }\n",
       "</style>\n",
       "<table border=\"1\" class=\"dataframe\">\n",
       "  <thead>\n",
       "    <tr style=\"text-align: right;\">\n",
       "      <th></th>\n",
       "      <th>arts</th>\n",
       "      <th>stem</th>\n",
       "      <th>gender</th>\n",
       "    </tr>\n",
       "  </thead>\n",
       "  <tbody>\n",
       "    <tr>\n",
       "      <th>male</th>\n",
       "      <td>90</td>\n",
       "      <td>1</td>\n",
       "      <td>91</td>\n",
       "    </tr>\n",
       "    <tr>\n",
       "      <th>female</th>\n",
       "      <td>0</td>\n",
       "      <td>90</td>\n",
       "      <td>90</td>\n",
       "    </tr>\n",
       "    <tr>\n",
       "      <th>stream</th>\n",
       "      <td>90</td>\n",
       "      <td>91</td>\n",
       "      <td>181</td>\n",
       "    </tr>\n",
       "  </tbody>\n",
       "</table>\n",
       "</div>"
      ],
      "text/plain": [
       "        arts  stem  gender\n",
       "male      90     1      91\n",
       "female     0    90      90\n",
       "stream    90    91     181"
      ]
     },
     "metadata": {},
     "output_type": "display_data"
    },
    {
     "name": "stdout",
     "output_type": "stream",
     "text": [
      "Enter a gender (male or female): male\n",
      "Enter a stream (arts or stem): stem\n",
      "P(male)=0.5027624309392266\n",
      "P(stem)=0.5027624309392266\n",
      "P(male and stem)=0.0055248618784530384\n",
      "P(stem|male)=0.01098901098901099\n",
      "P(male|stem)=0.01098901098901099\n"
     ]
    }
   ],
   "source": [
    "male_arts = int(input(\"Enter # of male arts students: \"))\n",
    "female_arts = int(input(\"Enter # of female arts students: \"))\n",
    "male_stem = int(input(\"Enter # of male stem students: \"))\n",
    "female_stem = int(input(\"Enter # of female stem students: \"))\n",
    "\n",
    "df_inputs = generate_df(male_arts, female_arts, male_stem, female_stem)\n",
    "display(df_inputs)\n",
    "\n",
    "selected_gender = input(\"Enter a gender (male or female): \") #Enter \"male\" or \"female\"\n",
    "selected_stream = input(\"Enter a stream (arts or stem): \")  #Enter \"arts\" or \"stem\"\n",
    "\n",
    "\n",
    "get_conditional_probabilities(selected_gender, selected_stream, df_inputs)"
   ]
  },
  {
   "cell_type": "code",
   "execution_count": null,
   "metadata": {},
   "outputs": [],
   "source": []
  }
 ],
 "metadata": {
  "kernelspec": {
   "display_name": "Python 3",
   "language": "python",
   "name": "python3"
  },
  "language_info": {
   "codemirror_mode": {
    "name": "ipython",
    "version": 3
   },
   "file_extension": ".py",
   "mimetype": "text/x-python",
   "name": "python",
   "nbconvert_exporter": "python",
   "pygments_lexer": "ipython3",
   "version": "3.7.4"
  }
 },
 "nbformat": 4,
 "nbformat_minor": 4
}
