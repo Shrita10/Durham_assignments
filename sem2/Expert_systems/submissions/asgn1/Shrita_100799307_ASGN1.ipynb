{
 "cells": [
  {
   "cell_type": "markdown",
   "metadata": {},
   "source": [
    "### Import required libraries for Rock Paper Scissor Game"
   ]
  },
  {
   "cell_type": "code",
   "execution_count": 1,
   "metadata": {},
   "outputs": [],
   "source": [
    "from pyknow import *\n",
    "from random import randint"
   ]
  },
  {
   "cell_type": "markdown",
   "metadata": {},
   "source": [
    "### Define the class and the functions"
   ]
  },
  {
   "cell_type": "code",
   "execution_count": 2,
   "metadata": {},
   "outputs": [],
   "source": [
    "class RPS(KnowledgeEngine):\n",
    "    # Introducing the game\n",
    "    @DefFacts()\n",
    "    def intro(self):\n",
    "        print(\"Welcome to the game of Rock Paper and Scissors AGAINST AI\") \n",
    "        print(\"----------------------------------------------\")\n",
    "        print(\"Let's get started\")\n",
    "        print(\"----------------------------------------------\")\n",
    "        yield Fact(action='maingame') \n",
    "    \n",
    "    # A random choice will be made and stored as AI's choice\n",
    "    @Rule(Fact(action='maingame'))\n",
    "    def AI(self):\n",
    "        choices= ['R','P','S']\n",
    "        self.declare(Fact(AI=choices[randint(0,2)]))\n",
    "    \n",
    "    # Will ask user for the user's choice and that choice will be stored as user's choice\n",
    "    @Rule(Fact(action='maingame'))\n",
    "    def startGame(self):\n",
    "        self.declare(Fact(you=input(\"Enter R for Rock, P for Paper and S for Scissors\"))) \n",
    "    \n",
    "    @Rule(Fact(action='maingame'), \n",
    "        Fact(you=MATCH.you),\n",
    "        Fact(AI=MATCH.AI))\n",
    "    \n",
    "    # Defining all the rules for the Rock Paper Scissors game\n",
    "    def maingame(self, you, AI):\n",
    "        choices = ['R','P','S']\n",
    "        if you not in choices:\n",
    "            print(\"----------------------------------------------\")\n",
    "            #If user enters anything else besides R, P and S throw this error and stop the program\n",
    "            print('Please try again with R, P and S for Rock Paper and Scissors')\n",
    "        else:\n",
    "\n",
    "            if you == AI:\n",
    "                print(\"----------------------------------------------\")\n",
    "                print(\"It is a TIE\")\n",
    "                print(\"----------------------------------------------\")\n",
    "                print(\"Better luck next time\")\n",
    "                print(\"----------------------------------------------\")\n",
    "            if you== 'R' and AI == 'P':\n",
    "                print(\"----------------------------------------------\")\n",
    "                print(\"AI won\")\n",
    "                print(\"----------------------------------------------\")\n",
    "                print(\"Paper covers Rock\")\n",
    "                print(\"----------------------------------------------\")\n",
    "                print(\"Better luck next time\")\n",
    "                print(\"----------------------------------------------\")\n",
    "            if you == 'R' and AI == 'S':\n",
    "                print(\"----------------------------------------------\")\n",
    "                print(\"Hurray, You won!\")\n",
    "                print(\"----------------------------------------------\")\n",
    "                print(\"Rock crushes Scissors\")\n",
    "                print(\"----------------------------------------------\")\n",
    "            if you == 'P' and AI == 'R':\n",
    "                print(\"----------------------------------------------\")\n",
    "                print(\"Hurray, You won\")\n",
    "                print(\"----------------------------------------------\")\n",
    "                print(\"Paper covers Rock\")\n",
    "                print(\"----------------------------------------------\")\n",
    "            if you == 'P' and AI == 'S':\n",
    "                print(\"----------------------------------------------\")\n",
    "                print(\"AI won\")\n",
    "                print(\"----------------------------------------------\")\n",
    "                print(\"Scissors cuts paper\")\n",
    "                print(\"----------------------------------------------\")\n",
    "                print(\"Better luck next time\")\n",
    "                print(\"----------------------------------------------\")\n",
    "            if you == 'S' and AI == 'R':\n",
    "                print(\"----------------------------------------------\")\n",
    "                print(\"AI won\")\n",
    "                print(\"----------------------------------------------\")\n",
    "                print(\"Rock crushes Scissors\")\n",
    "                print(\"----------------------------------------------\")\n",
    "                print(\"Better luck next time\")\n",
    "                print(\"----------------------------------------------\")\n",
    "            if you == 'S' and AI == 'P':\n",
    "                print(\"----------------------------------------------\")\n",
    "                print(\"Hurray, You won\")\n",
    "                print(\"----------------------------------------------\")\n",
    "                print(\"Scissors cuts Paper\")\n",
    "                print(\"----------------------------------------------\")"
   ]
  },
  {
   "cell_type": "markdown",
   "metadata": {},
   "source": [
    "### Test run"
   ]
  },
  {
   "cell_type": "code",
   "execution_count": 3,
   "metadata": {},
   "outputs": [
    {
     "name": "stdout",
     "output_type": "stream",
     "text": [
      "Welcome to the game of Rock Paper and Scissors AGAINST AI\n",
      "----------------------------------------------\n",
      "Let's get started\n",
      "----------------------------------------------\n",
      "Enter R for Rock, P for Paper and S for ScissorsR\n",
      "----------------------------------------------\n",
      "Hurray, You won!\n",
      "----------------------------------------------\n",
      "Rock crushes Scissors\n",
      "----------------------------------------------\n"
     ]
    }
   ],
   "source": [
    "RockPaperScissor = RPS()\n",
    "RockPaperScissor.reset()\n",
    "RockPaperScissor.run()"
   ]
  },
  {
   "cell_type": "code",
   "execution_count": 4,
   "metadata": {},
   "outputs": [
    {
     "name": "stdout",
     "output_type": "stream",
     "text": [
      "Welcome to the game of Rock Paper and Scissors AGAINST AI\n",
      "----------------------------------------------\n",
      "Let's get started\n",
      "----------------------------------------------\n",
      "Enter R for Rock, P for Paper and S for ScissorsP\n",
      "----------------------------------------------\n",
      "AI won\n",
      "----------------------------------------------\n",
      "Scissors cuts paper\n",
      "----------------------------------------------\n",
      "Better luck next time\n",
      "----------------------------------------------\n"
     ]
    }
   ],
   "source": [
    "RockPaperScissor1 = RPS()\n",
    "RockPaperScissor1.reset()\n",
    "RockPaperScissor1.run()"
   ]
  },
  {
   "cell_type": "code",
   "execution_count": 5,
   "metadata": {},
   "outputs": [
    {
     "name": "stdout",
     "output_type": "stream",
     "text": [
      "Welcome to the game of Rock Paper and Scissors AGAINST AI\n",
      "----------------------------------------------\n",
      "Let's get started\n",
      "----------------------------------------------\n",
      "Enter R for Rock, P for Paper and S for Scissorst\n",
      "----------------------------------------------\n",
      "Please try again with R, P and S for Rock Paper and Scissors\n"
     ]
    }
   ],
   "source": [
    "RockPaperScissor2 = RPS()\n",
    "RockPaperScissor2.reset()\n",
    "RockPaperScissor2.run()"
   ]
  },
  {
   "cell_type": "code",
   "execution_count": null,
   "metadata": {},
   "outputs": [],
   "source": []
  }
 ],
 "metadata": {
  "kernelspec": {
   "display_name": "Python 3",
   "language": "python",
   "name": "python3"
  },
  "language_info": {
   "codemirror_mode": {
    "name": "ipython",
    "version": 3
   },
   "file_extension": ".py",
   "mimetype": "text/x-python",
   "name": "python",
   "nbconvert_exporter": "python",
   "pygments_lexer": "ipython3",
   "version": "3.7.4"
  }
 },
 "nbformat": 4,
 "nbformat_minor": 4
}
